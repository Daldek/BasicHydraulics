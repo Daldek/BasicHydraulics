{
 "cells": [
  {
   "cell_type": "code",
   "execution_count": 1,
   "metadata": {},
   "outputs": [],
   "source": [
    "from channel import *"
   ]
  },
  {
   "cell_type": "code",
   "execution_count": 2,
   "metadata": {},
   "outputs": [
    {
     "data": {
      "text/plain": [
       "{0.0: 0.0,\n",
       " 0.1: 0.0,\n",
       " 0.2: 0.01,\n",
       " 0.3: 0.03,\n",
       " 0.4: 0.05,\n",
       " 0.5: 0.07,\n",
       " 0.6: 0.1,\n",
       " 0.7: 0.13,\n",
       " 0.8: 0.17,\n",
       " 0.9: 0.21,\n",
       " 1.0: 0.26,\n",
       " 1.1: 0.31,\n",
       " 1.2: 0.38,\n",
       " 1.3: 0.44,\n",
       " 1.4: 0.52,\n",
       " 1.5: 0.6}"
      ]
     },
     "execution_count": 2,
     "metadata": {},
     "output_type": "execute_result"
    }
   ],
   "source": [
    "trapezoidal_channel = TrapezoidalChannel(depth=1.5, \n",
    "                                        width= 1,\n",
    "                                        bank_inclination_m=1,\n",
    "                                        inclination=0.0001,\n",
    "                                        roughness_n=0.05)\n",
    "trapezoidal_channel.calculate_flow_rates()"
   ]
  },
  {
   "cell_type": "code",
   "execution_count": 3,
   "metadata": {},
   "outputs": [
    {
     "name": "stdout",
     "output_type": "stream",
     "text": [
      "Base width is 2.50 m\n",
      "XS area is 6.25 sqm\n",
      "Wetter perimeter is 7.07 m\n"
     ]
    },
    {
     "data": {
      "text/plain": [
       "7.0710678118654755"
      ]
     },
     "execution_count": 3,
     "metadata": {},
     "output_type": "execute_result"
    }
   ],
   "source": [
    "triangular_channel = TriangularChannel(depth=2.5,\n",
    "                                       bank_slope=1,\n",
    "                                       inclination=0.0001,\n",
    "                                       roughness_n=0.05)\n",
    "triangular_channel.base_width()\n",
    "triangular_channel.cross_sectional_area()\n",
    "triangular_channel.wetted_perimeter()\n"
   ]
  },
  {
   "cell_type": "code",
   "execution_count": 4,
   "metadata": {},
   "outputs": [],
   "source": [
    "from structure import *"
   ]
  },
  {
   "cell_type": "code",
   "execution_count": 5,
   "metadata": {},
   "outputs": [
    {
     "data": {
      "text/plain": [
       "91.67664870144475"
      ]
     },
     "execution_count": 5,
     "metadata": {},
     "output_type": "execute_result"
    }
   ],
   "source": [
    "small_opening = SmallOpening(dimension=0.1,\n",
    "                             hydraulic_head=1,\n",
    "                             surface_area=1)\n",
    "small_opening.time_to_discharge()"
   ]
  }
 ],
 "metadata": {
  "kernelspec": {
   "display_name": "base",
   "language": "python",
   "name": "python3"
  },
  "language_info": {
   "codemirror_mode": {
    "name": "ipython",
    "version": 3
   },
   "file_extension": ".py",
   "mimetype": "text/x-python",
   "name": "python",
   "nbconvert_exporter": "python",
   "pygments_lexer": "ipython3",
   "version": "3.8.18"
  }
 },
 "nbformat": 4,
 "nbformat_minor": 2
}
